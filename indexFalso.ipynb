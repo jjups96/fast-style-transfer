{
 "cells": [
  {
   "cell_type": "markdown",
   "metadata": {},
   "source": [
    "La transferencia de estilo es la técnica de recomponer imágenes al estilo de otras imágenes. Estos se crearon en su mayoría utilizando el código de [Justin Johnson](https://github.com/jcjohnson/neural-style) basado en el documento de [Gatys, Ecker y Bethge](https://arxiv.org/abs/1508.06576) que demuestra un método para rediseñar imágenes utilizando redes neuronales convolucionales.\n",
    "\n",
    "![alt text](https://raw.githubusercontent.com/jjups96/fast-style-transfer/master/examples/thumbs/la_muse.jpg \"Logo Title Text 1\")\n"
   ]
  },
  {
   "cell_type": "markdown",
   "metadata": {},
   "source": [
    "\"En arte, especialmente en pintura, los seres humanos han dominado la habilidad de crear experiencias visuales únicas a través de la composición de una interacción compleja entre el contenido y el estilo de una imagen. Hasta ahora, la base algorítmica de este proceso es desconocida y no existe ningún sistema artificial con capacidades similares. Sin embargo, en otras áreas clave de la percepción visual, como el reconocimiento de objetos y rostros, desempeño casi humano, se demostró recientemente mediante una clase de modelos de visión de inspiración biológica llamados Deep Neural Networks.\"\n",
    "\n",
    "-Leon A. Gatys"
   ]
  },
  {
   "cell_type": "markdown",
   "metadata": {},
   "source": [
    "¿Es esta magia o solo un aprendizaje profundo? Afortunadamente, esto no implica ninguna magia: la transferencia de estilo es una técnica divertida e interesante que muestra las capacidades y representaciones internas de las redes neuronales.\n",
    "\n",
    "El principio de la transferencia de estilo neuronal es definir dos funciones de distancia, una que describe cuán diferente es el contenido de dos imágenes, **content**, y otra que describe la diferencia entre las dos imágenes en términos de su estilo, **style**. Luego, dadas tres imágenes, una imagen de estilo deseada, una imagen de contenido deseada y la imagen de entrada (inicializada con la imagen de contenido), intentamos transformar la imagen de entrada para minimizar la distancia de contenido con la imagen de contenido y su distancia de estilo con el imagen de estilo.\n",
    "\n",
    "En resumen, tomaremos la imagen de entrada base, una imagen de contenido que queremos hacer coincidir y la imagen de estilo que queremos hacer coincidir. Transformaremos la imagen de entrada base al minimizar el contenido y las distancias de estilo (**pérdidas/losses**) con la propagación hacia atrás (**backpropagation**), creando una imagen que coincida con el contenido de la imagen de contenido y el estilo de la imagen de estilo."
   ]
  },
  {
   "cell_type": "markdown",
   "metadata": {},
   "source": [
    "## EStilizacion de una imagen\n",
    "Aplicamos varios estilos de pinturas a la rectoria de la unison.\n",
    "<div align='center'>\n",
    "<img src = 'examples/content/rectoria2.jpg' height=\"200px\">\n",
    "</div>\n",
    "     \n",
    "<div align = 'center'>\n",
    "<a href = 'examples/style/wave.jpg'><img src = 'examples/thumbs/wave.jpg' height = '200px'></a>\n",
    "<img src = 'examples/misResultados/rectoria2_wave.jpg' height = '200px'>\n",
    "<img src = 'examples/misResultados/rectoria2_udnie.jpg' height = '200px'>\n",
    "<a href = 'examples/style/udnie.jpg'><img src = 'examples/thumbs/udnie.jpg' height = '200px'></a>\n",
    "<br>\n",
    "<a href = 'examples/style/rain_princess.jpg'><img src = 'examples/thumbs/rain_princess.jpg' height = '200px'></a>\n",
    "<img src = 'examples/misResultados/rectoria2_rain.jpg' height = '200px'>\n",
    "<img src = 'examples/misResultados/rectoria2_muse.jpg' height = '200px'>\n",
    "<a href = 'examples/style/la_muse.jpg'><img src = 'examples/thumbs/la_muse.jpg' height = '200px'></a>\n",
    "\n",
    "<br>\n",
    "<a href = 'examples/style/the_shipwreck_of_the_minotaur.jpg'><img src = 'examples/thumbs/the_shipwreck_of_the_minotaur.jpg' height = '200px'></a>\n",
    "<img src = 'examples/misResultados/rectoria2_wreck.jpg' height = '200px'>\n",
    "<img src = 'examples/misResultados/rectoria2_scream.jpg' height = '200px'>\n",
    "<a href = 'examples/style/the_scream.jpg'><img src = 'examples/thumbs/the_scream.jpg' height = '200px'></a>\n",
    "</div>"
   ]
  },
  {
   "cell_type": "markdown",
   "metadata": {},
   "source": [
    "# Definamos estilo y representaciones.\n",
    "\n",
    "-Modelo\n",
    "\n",
    "--vgg19\n",
    "\n",
    "-Definamos distancia\n",
    "\n",
    "--Content loss\n",
    "\n",
    "--Style loss\n"
   ]
  },
  {
   "cell_type": "markdown",
   "metadata": {},
   "source": [
    "<div style=\"text-align: justify\">\n",
    "La transferencia de estilo es la técnica de recomponer imágenes al estilo de otras imágenes. Estos se crearon en su mayoría utilizando el código de <a href=\"https://github.com/jcjohnson/neural-style\">Justin Johnson</a> basado en el documento de <a href=\"https://arxiv.org/abs/1508.06576\">Gatys, Ecker y Bethge</a> que demuestra un método para rediseñar imágenes utilizando redes neuronales convolucionales.\n",
    "</div>\n",
    "\n",
    "\n",
    "![alt text](https://raw.githubusercontent.com/jjups96/fast-style-transfer/master/examples/thumbs/johnson.png \"Johnson\")\n",
    "<br>\n",
    "<div style=\"text-align: justify\">\n",
    "\"En arte, especialmente en pintura, los seres humanos han dominado la habilidad de crear experiencias visuales únicas a través de la composición de una interacción compleja entre el contenido y el estilo de una imagen. Hasta ahora, la base algorítmica de este proceso es desconocida y no existe ningún sistema artificial con capacidades similares. Sin embargo, en otras áreas clave de la percepción visual, como el reconocimiento de objetos y rostros, desempeño casi humano, se demostró recientemente mediante una clase de modelos de visión de inspiración biológica llamados Deep Neural Networks.\"\n",
    "\n",
    "-Leon A. Gatys\n",
    "</div>\n",
    "<br>\n",
    "\n",
    "<div style=\"text-align: justify\">\n",
    "¿Es esta magia o solo un aprendizaje profundo? Afortunadamente, esto no implica ninguna magia: la transferencia de estilo es una técnica divertida e interesante que muestra las capacidades y representaciones internas de las redes neuronales.\n",
    "\n",
    "El principio de la transferencia de estilo neuronal es definir dos funciones de distancia, una que describe cuán diferente es el contenido de dos imágenes, <b>content</b>, y otra que describe la diferencia entre las dos imágenes en términos de su estilo, <b>style</b>. Luego, dadas tres imágenes, una imagen de estilo deseada, una imagen de contenido deseada y la imagen de entrada (inicializada con la imagen de contenido), intentamos transformar la imagen de entrada para minimizar la distancia de contenido con la imagen de contenido y su distancia de estilo con el imagen de estilo.\n",
    "\n",
    "En resumen, tomaremos la imagen de entrada base, una imagen de contenido que queremos hacer coincidir y la imagen de estilo que queremos hacer coincidir. Transformaremos la imagen de entrada base al minimizar el contenido y las distancias de estilo (<b>pérdidas/losses</b>) con la propagación hacia atrás (<b>backpropagation</b>), creando una imagen que coincida con el contenido de la imagen de contenido y el estilo de la imagen de estilo.\n",
    "</div>\n",
    "\n",
    "<br>\n",
    "## Estilizacion de una imagen\n",
    "<div style=\"text-align: justify\">\n",
    "Aplicamos varios estilos de pinturas a la rectoria de la unison. Hacer click en los thumbnails para ver original.\n",
    "<div align='center'>\n",
    "<img src = 'examples/content/rectoria2.jpg' height=\"200px\">\n",
    "</div>\n",
    "\n",
    "<div align = 'center'>\n",
    "<a href = 'examples/style/wave.jpg'><img src = 'examples/thumbs/wave.jpg' height = '200px'></a>\n",
    "<img src = 'examples/misResultados/rectoria2_wave.jpg' height = '200px'>\n",
    "<img src = 'examples/misResultados/rectoria2_udnie.jpg' height = '200px'>\n",
    "<a href = 'examples/style/udnie.jpg'><img src = 'examples/thumbs/udnie.jpg' height = '200px'></a>\n",
    "<br>\n",
    "<a href = 'examples/style/rain_princess.jpg'><img src = 'examples/thumbs/rain_princess.jpg' height = '200px'></a>\n",
    "<img src = 'examples/misResultados/rectoria2_rain.jpg' height = '200px'>\n",
    "<img src = 'examples/misResultados/rectoria2_muse.jpg' height = '200px'>\n",
    "<a href = 'examples/style/la_muse.jpg'><img src = 'examples/thumbs/la_muse.jpg' height = '200px'></a>\n",
    "\n",
    "<br>\n",
    "<a href = 'examples/style/the_shipwreck_of_the_minotaur.jpg'><img src = 'examples/thumbs/the_shipwreck_of_the_minotaur.jpg' height = '200px'></a>\n",
    "<img src = 'examples/misResultados/rectoria2_wreck.jpg' height = '200px'>\n",
    "<img src = 'examples/misResultados/rectoria2_scream.jpg' height = '200px'>\n",
    "<a href = 'examples/style/the_scream.jpg'><img src = 'examples/thumbs/the_scream.jpg' height = '200px'></a>\n",
    "</div>\n",
    "\n",
    "<br>\n",
    "# Definamos estilo y representaciones.\n",
    "\n",
    "-Modelo\n",
    "\n",
    "--vgg19\n",
    "\n",
    "-Definamos distancia\n",
    "\n",
    "--Content loss\n",
    "\n",
    "--Style loss\n"
   ]
  }
 ],
 "metadata": {
  "kernelspec": {
   "display_name": "Python 3",
   "language": "python",
   "name": "python3"
  },
  "language_info": {
   "codemirror_mode": {
    "name": "ipython",
    "version": 3
   },
   "file_extension": ".py",
   "mimetype": "text/x-python",
   "name": "python",
   "nbconvert_exporter": "python",
   "pygments_lexer": "ipython3",
   "version": "3.6.5"
  }
 },
 "nbformat": 4,
 "nbformat_minor": 2
}
